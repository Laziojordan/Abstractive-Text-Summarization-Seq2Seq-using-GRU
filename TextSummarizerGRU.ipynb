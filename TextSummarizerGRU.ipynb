{
  "nbformat": 4,
  "nbformat_minor": 0,
  "metadata": {
    "colab": {
      "name": "TextSummarizerGRU.ipynb",
      "provenance": [],
      "collapsed_sections": [],
      "toc_visible": true,
      "include_colab_link": true
    },
    "kernelspec": {
      "name": "python3",
      "display_name": "Python 3"
    },
    "accelerator": "GPU"
  },
  "cells": [
    {
      "cell_type": "markdown",
      "metadata": {
        "id": "view-in-github",
        "colab_type": "text"
      },
      "source": [
        "<a href=\"https://colab.research.google.com/github/AyhamAlomari/Abstractive-Text-Summarization-Seq2Seq-using-GRU/blob/master/TextSummarizerGRU.ipynb\" target=\"_parent\"><img src=\"https://colab.research.google.com/assets/colab-badge.svg\" alt=\"Open In Colab\"/></a>"
      ]
    },
    {
      "cell_type": "markdown",
      "metadata": {
        "id": "e04lktufD0Xh",
        "colab_type": "text"
      },
      "source": [
        "**References:**\n",
        "\n",
        "1- Sequence Models (Course 5 of the Deep Learning Specialization), Deeplearning.ai, **Andrew Ng**\n",
        "\n",
        "https://www.youtube.com/playlist?list=PLkDaE6sCZn6F6wUI9tvS_Gw1vaFAx6rd6\n",
        "\n",
        "2-\tComprehensive Guide to Text Summarization using Deep Learning in Python, **Aravind Pai**\n",
        "\n",
        "https://www.analyticsvidhya.com/blog/2019/06/comprehensive-guide-text-summarization-using-deep-learning-python/#comment-160299\n",
        "\n",
        "3- A ten-minute introduction to sequence-to-sequence learning in Keras, **Francois Chollet**\n",
        "\n",
        "https://blog.keras.io/a-ten-minute-introduction-to-sequence-to-sequence-learning-in-keras.html\n",
        "\n"
      ]
    },
    {
      "cell_type": "markdown",
      "metadata": {
        "id": "5w9UzOpD9jMu",
        "colab_type": "text"
      },
      "source": [
        "**Abstractive Text Summarization**\n",
        "\n",
        "First, we can form our problem as a sequence-to-sequence problem (a sequence prediction problem) at word-level where the input sequences are long english statement(s) and the output is a shorter-length, same-meaning, different-words summary. \n",
        "\n",
        "In general, the input sequences and output sequences in **sequence-to-sequence learning** have different lengths (such as text summarization and machine translation) and the entire input sequence is required in order to start predicting the target.\n",
        "\n",
        "In Keras, the process is done as follow:\n",
        "- A RNN layer (Here, we will use GRU) acts as \"Encoder\": it processes the input sequence and returns its own internal state. \n",
        "- Another RNN layer (GRU) acts as \"Decoder\": it is trained to predict the next words of the target sequence, given previous words of the target sequence.\n",
        "\n",
        "**Dataset**\n",
        "\n",
        "Amazon Fine Food reviews\n",
        "\n",
        "**Other Required Files**\n",
        "\n",
        "attention layer file.\n",
        "\n",
        "Note: Keras has a built-in Attention class. Unfortunately, it is more suitable for CNNs than RNNs. Therefore, we will use a third-paty attention layer file.\n",
        "\n",
        "Now, Let's start coding\n"
      ]
    },
    {
      "cell_type": "markdown",
      "metadata": {
        "id": "QCpvcPsdQ_Kt",
        "colab_type": "text"
      },
      "source": [
        "The code will follow these steps:\n",
        "\n",
        "1- Importing Libraries and Reading the dataset\n",
        "\n",
        "2- Dataset general information\n",
        "\n",
        "3- Dropping unuseful columns and null/duplicated rows\n",
        "\n",
        "4- Dataset Preprocessing and Cleaning\n",
        "\n",
        "5- Splitting the dataset into Training and Testing\n",
        "\n",
        "6- Determining the maximum lengths of texts and summaries\n",
        "\n",
        "7- Preparing our data for deep learning (Tokenizer/Vocabulary)\n",
        "\n",
        "8- Building the model\n",
        "\n",
        "A) Setting up the Model\n",
        "\n",
        "B) Training the Model\n",
        "\n",
        "9) Inference Model (Predicting)"
      ]
    },
    {
      "cell_type": "markdown",
      "metadata": {
        "id": "cJw9nGZ2jAUr",
        "colab_type": "text"
      },
      "source": [
        "#**1- Importing Libraries and Reading the dataset**"
      ]
    },
    {
      "cell_type": "code",
      "metadata": {
        "id": "HAWfWNKzgMmm",
        "colab_type": "code",
        "colab": {}
      },
      "source": [
        "\n",
        "import tensorflow.keras\n",
        "#import tensorflow as tf\n",
        "from tensorflow.keras.models import Model,load_model\n",
        "from tensorflow.keras.layers import Input, GRU, Dense, Embedding, TimeDistributed, Concatenate\n",
        "#from tensorflow.keras.utils.vis_utils import plot_model\n",
        "from tensorflow.keras import backend\n",
        "from tensorflow.keras.callbacks import EarlyStopping\n",
        "from tensorflow.keras.preprocessing.text import Tokenizer\n",
        "from tensorflow.keras.preprocessing.sequence import pad_sequences\n",
        "#from tensorflow.keras.layers import Attention\n",
        "from attention import AttentionLayer\n",
        "from sklearn import model_selection\n",
        "import numpy as np\n",
        "import pandas as pd\n",
        "import nltk\n",
        "from nltk.corpus import stopwords\n",
        "import re\n",
        "\n",
        "\n",
        "#nltk.download('stopwords')\n",
        "\n",
        "\n",
        "dataset=pd.DataFrame(pd.read_csv(\"Reviews.csv\",nrows=100000))\n",
        "\n"
      ],
      "execution_count": null,
      "outputs": []
    },
    {
      "cell_type": "markdown",
      "metadata": {
        "id": "Y7yhfvkvoO8D",
        "colab_type": "text"
      },
      "source": [
        "#  **2- Dataset general information**\n",
        "\n",
        "\n",
        "\n",
        "\n",
        "\n"
      ]
    },
    {
      "cell_type": "markdown",
      "metadata": {
        "id": "5bc1GvzapcbW",
        "colab_type": "text"
      },
      "source": [
        "\n",
        "1.   shape\n",
        "2.   columns names\n",
        "3.   null rows"
      ]
    },
    {
      "cell_type": "code",
      "metadata": {
        "id": "-Ylhumq4qFIT",
        "colab_type": "code",
        "colab": {
          "base_uri": "https://localhost:8080/",
          "height": 34
        },
        "outputId": "a62230e7-0bd0-487b-893e-f36f08e735f5"
      },
      "source": [
        "dataset.shape"
      ],
      "execution_count": null,
      "outputs": [
        {
          "output_type": "execute_result",
          "data": {
            "text/plain": [
              "(100000, 10)"
            ]
          },
          "metadata": {
            "tags": []
          },
          "execution_count": 3
        }
      ]
    },
    {
      "cell_type": "code",
      "metadata": {
        "id": "kpqMDbJpqA1i",
        "colab_type": "code",
        "colab": {
          "base_uri": "https://localhost:8080/",
          "height": 68
        },
        "outputId": "d68aa71e-aec3-45e2-df8a-c37f71893bc3"
      },
      "source": [
        "dataset.columns"
      ],
      "execution_count": null,
      "outputs": [
        {
          "output_type": "execute_result",
          "data": {
            "text/plain": [
              "Index(['Id', 'ProductId', 'UserId', 'ProfileName', 'HelpfulnessNumerator',\n",
              "       'HelpfulnessDenominator', 'Score', 'Time', 'Summary', 'Text'],\n",
              "      dtype='object')"
            ]
          },
          "metadata": {
            "tags": []
          },
          "execution_count": 4
        }
      ]
    },
    {
      "cell_type": "code",
      "metadata": {
        "id": "7ZU4NggXf8bV",
        "colab_type": "code",
        "colab": {
          "base_uri": "https://localhost:8080/",
          "height": 493
        },
        "outputId": "e07f69ec-5972-4642-9ea1-561398b14246"
      },
      "source": [
        "dataset.info()\n",
        "dataset.isnull().sum()"
      ],
      "execution_count": null,
      "outputs": [
        {
          "output_type": "stream",
          "text": [
            "<class 'pandas.core.frame.DataFrame'>\n",
            "RangeIndex: 100000 entries, 0 to 99999\n",
            "Data columns (total 10 columns):\n",
            " #   Column                  Non-Null Count   Dtype \n",
            "---  ------                  --------------   ----- \n",
            " 0   Id                      100000 non-null  int64 \n",
            " 1   ProductId               100000 non-null  object\n",
            " 2   UserId                  100000 non-null  object\n",
            " 3   ProfileName             99996 non-null   object\n",
            " 4   HelpfulnessNumerator    100000 non-null  int64 \n",
            " 5   HelpfulnessDenominator  100000 non-null  int64 \n",
            " 6   Score                   100000 non-null  int64 \n",
            " 7   Time                    100000 non-null  int64 \n",
            " 8   Summary                 99998 non-null   object\n",
            " 9   Text                    100000 non-null  object\n",
            "dtypes: int64(5), object(5)\n",
            "memory usage: 7.6+ MB\n"
          ],
          "name": "stdout"
        },
        {
          "output_type": "execute_result",
          "data": {
            "text/plain": [
              "Id                        0\n",
              "ProductId                 0\n",
              "UserId                    0\n",
              "ProfileName               4\n",
              "HelpfulnessNumerator      0\n",
              "HelpfulnessDenominator    0\n",
              "Score                     0\n",
              "Time                      0\n",
              "Summary                   2\n",
              "Text                      0\n",
              "dtype: int64"
            ]
          },
          "metadata": {
            "tags": []
          },
          "execution_count": 5
        }
      ]
    },
    {
      "cell_type": "markdown",
      "metadata": {
        "id": "ReTwGaF3wH9D",
        "colab_type": "text"
      },
      "source": [
        "# **3- Dropping unuseful columns and null/duplicated rows**"
      ]
    },
    {
      "cell_type": "code",
      "metadata": {
        "id": "YL6sDodVvSLf",
        "colab_type": "code",
        "colab": {}
      },
      "source": [
        "\n",
        "dataset=dataset.drop(['Id', 'ProductId', 'UserId', 'ProfileName', 'HelpfulnessNumerator',\n",
        "                      'HelpfulnessDenominator', 'Score', 'Time'],axis=1)"
      ],
      "execution_count": null,
      "outputs": []
    },
    {
      "cell_type": "code",
      "metadata": {
        "id": "0NQ6IyRzvsVw",
        "colab_type": "code",
        "colab": {
          "base_uri": "https://localhost:8080/",
          "height": 34
        },
        "outputId": "bad804d5-8a90-47d6-947f-a94310b0f274"
      },
      "source": [
        "dataset.shape"
      ],
      "execution_count": null,
      "outputs": [
        {
          "output_type": "execute_result",
          "data": {
            "text/plain": [
              "(100000, 2)"
            ]
          },
          "metadata": {
            "tags": []
          },
          "execution_count": 7
        }
      ]
    },
    {
      "cell_type": "code",
      "metadata": {
        "id": "JAl_vsocvwEO",
        "colab_type": "code",
        "colab": {
          "base_uri": "https://localhost:8080/",
          "height": 170
        },
        "outputId": "45fa9d43-36a4-4845-fb65-ab006b80d648"
      },
      "source": [
        "dataset.info()"
      ],
      "execution_count": null,
      "outputs": [
        {
          "output_type": "stream",
          "text": [
            "<class 'pandas.core.frame.DataFrame'>\n",
            "RangeIndex: 100000 entries, 0 to 99999\n",
            "Data columns (total 2 columns):\n",
            " #   Column   Non-Null Count   Dtype \n",
            "---  ------   --------------   ----- \n",
            " 0   Summary  99998 non-null   object\n",
            " 1   Text     100000 non-null  object\n",
            "dtypes: object(2)\n",
            "memory usage: 1.5+ MB\n"
          ],
          "name": "stdout"
        }
      ]
    },
    {
      "cell_type": "code",
      "metadata": {
        "id": "hSQz7FFhn2jM",
        "colab_type": "code",
        "colab": {
          "base_uri": "https://localhost:8080/",
          "height": 419
        },
        "outputId": "c9d47e0f-f226-4829-c4be-3e9f81c6e88a"
      },
      "source": [
        "dataset.dropna(inplace=True,axis=0)\n",
        "dataset.drop_duplicates(subset='Text')"
      ],
      "execution_count": null,
      "outputs": [
        {
          "output_type": "execute_result",
          "data": {
            "text/html": [
              "<div>\n",
              "<style scoped>\n",
              "    .dataframe tbody tr th:only-of-type {\n",
              "        vertical-align: middle;\n",
              "    }\n",
              "\n",
              "    .dataframe tbody tr th {\n",
              "        vertical-align: top;\n",
              "    }\n",
              "\n",
              "    .dataframe thead th {\n",
              "        text-align: right;\n",
              "    }\n",
              "</style>\n",
              "<table border=\"1\" class=\"dataframe\">\n",
              "  <thead>\n",
              "    <tr style=\"text-align: right;\">\n",
              "      <th></th>\n",
              "      <th>Summary</th>\n",
              "      <th>Text</th>\n",
              "    </tr>\n",
              "  </thead>\n",
              "  <tbody>\n",
              "    <tr>\n",
              "      <th>0</th>\n",
              "      <td>Good Quality Dog Food</td>\n",
              "      <td>I have bought several of the Vitality canned d...</td>\n",
              "    </tr>\n",
              "    <tr>\n",
              "      <th>1</th>\n",
              "      <td>Not as Advertised</td>\n",
              "      <td>Product arrived labeled as Jumbo Salted Peanut...</td>\n",
              "    </tr>\n",
              "    <tr>\n",
              "      <th>2</th>\n",
              "      <td>\"Delight\" says it all</td>\n",
              "      <td>This is a confection that has been around a fe...</td>\n",
              "    </tr>\n",
              "    <tr>\n",
              "      <th>3</th>\n",
              "      <td>Cough Medicine</td>\n",
              "      <td>If you are looking for the secret ingredient i...</td>\n",
              "    </tr>\n",
              "    <tr>\n",
              "      <th>4</th>\n",
              "      <td>Great taffy</td>\n",
              "      <td>Great taffy at a great price.  There was a wid...</td>\n",
              "    </tr>\n",
              "    <tr>\n",
              "      <th>...</th>\n",
              "      <td>...</td>\n",
              "      <td>...</td>\n",
              "    </tr>\n",
              "    <tr>\n",
              "      <th>99995</th>\n",
              "      <td>yummy!</td>\n",
              "      <td>I just love it and will buy another box when I...</td>\n",
              "    </tr>\n",
              "    <tr>\n",
              "      <th>99996</th>\n",
              "      <td>Tastes like More!</td>\n",
              "      <td>My late father in law used to have a rating sy...</td>\n",
              "    </tr>\n",
              "    <tr>\n",
              "      <th>99997</th>\n",
              "      <td>Great ramen</td>\n",
              "      <td>This is my favorite brand of Korean ramen. It ...</td>\n",
              "    </tr>\n",
              "    <tr>\n",
              "      <th>99998</th>\n",
              "      <td>Spicy!!</td>\n",
              "      <td>I do like these noodles although, to say they ...</td>\n",
              "    </tr>\n",
              "    <tr>\n",
              "      <th>99999</th>\n",
              "      <td>This spicy noodle cures my cold, upset stomach...</td>\n",
              "      <td>I love this noodle and have it once or twice a...</td>\n",
              "    </tr>\n",
              "  </tbody>\n",
              "</table>\n",
              "<p>88425 rows × 2 columns</p>\n",
              "</div>"
            ],
            "text/plain": [
              "                                                 Summary                                               Text\n",
              "0                                  Good Quality Dog Food  I have bought several of the Vitality canned d...\n",
              "1                                      Not as Advertised  Product arrived labeled as Jumbo Salted Peanut...\n",
              "2                                  \"Delight\" says it all  This is a confection that has been around a fe...\n",
              "3                                         Cough Medicine  If you are looking for the secret ingredient i...\n",
              "4                                            Great taffy  Great taffy at a great price.  There was a wid...\n",
              "...                                                  ...                                                ...\n",
              "99995                                             yummy!  I just love it and will buy another box when I...\n",
              "99996                                  Tastes like More!  My late father in law used to have a rating sy...\n",
              "99997                                        Great ramen  This is my favorite brand of Korean ramen. It ...\n",
              "99998                                            Spicy!!  I do like these noodles although, to say they ...\n",
              "99999  This spicy noodle cures my cold, upset stomach...  I love this noodle and have it once or twice a...\n",
              "\n",
              "[88425 rows x 2 columns]"
            ]
          },
          "metadata": {
            "tags": []
          },
          "execution_count": 9
        }
      ]
    },
    {
      "cell_type": "code",
      "metadata": {
        "id": "2OUMsqCpyXm4",
        "colab_type": "code",
        "colab": {
          "base_uri": "https://localhost:8080/",
          "height": 204
        },
        "outputId": "a4e574ac-2696-4dd1-902b-2264af0f88ba"
      },
      "source": [
        "dataset.head()"
      ],
      "execution_count": null,
      "outputs": [
        {
          "output_type": "execute_result",
          "data": {
            "text/html": [
              "<div>\n",
              "<style scoped>\n",
              "    .dataframe tbody tr th:only-of-type {\n",
              "        vertical-align: middle;\n",
              "    }\n",
              "\n",
              "    .dataframe tbody tr th {\n",
              "        vertical-align: top;\n",
              "    }\n",
              "\n",
              "    .dataframe thead th {\n",
              "        text-align: right;\n",
              "    }\n",
              "</style>\n",
              "<table border=\"1\" class=\"dataframe\">\n",
              "  <thead>\n",
              "    <tr style=\"text-align: right;\">\n",
              "      <th></th>\n",
              "      <th>Summary</th>\n",
              "      <th>Text</th>\n",
              "    </tr>\n",
              "  </thead>\n",
              "  <tbody>\n",
              "    <tr>\n",
              "      <th>0</th>\n",
              "      <td>Good Quality Dog Food</td>\n",
              "      <td>I have bought several of the Vitality canned d...</td>\n",
              "    </tr>\n",
              "    <tr>\n",
              "      <th>1</th>\n",
              "      <td>Not as Advertised</td>\n",
              "      <td>Product arrived labeled as Jumbo Salted Peanut...</td>\n",
              "    </tr>\n",
              "    <tr>\n",
              "      <th>2</th>\n",
              "      <td>\"Delight\" says it all</td>\n",
              "      <td>This is a confection that has been around a fe...</td>\n",
              "    </tr>\n",
              "    <tr>\n",
              "      <th>3</th>\n",
              "      <td>Cough Medicine</td>\n",
              "      <td>If you are looking for the secret ingredient i...</td>\n",
              "    </tr>\n",
              "    <tr>\n",
              "      <th>4</th>\n",
              "      <td>Great taffy</td>\n",
              "      <td>Great taffy at a great price.  There was a wid...</td>\n",
              "    </tr>\n",
              "  </tbody>\n",
              "</table>\n",
              "</div>"
            ],
            "text/plain": [
              "                 Summary                                               Text\n",
              "0  Good Quality Dog Food  I have bought several of the Vitality canned d...\n",
              "1      Not as Advertised  Product arrived labeled as Jumbo Salted Peanut...\n",
              "2  \"Delight\" says it all  This is a confection that has been around a fe...\n",
              "3         Cough Medicine  If you are looking for the secret ingredient i...\n",
              "4            Great taffy  Great taffy at a great price.  There was a wid..."
            ]
          },
          "metadata": {
            "tags": []
          },
          "execution_count": 10
        }
      ]
    },
    {
      "cell_type": "code",
      "metadata": {
        "id": "KLQfMbtzttYP",
        "colab_type": "code",
        "colab": {
          "base_uri": "https://localhost:8080/",
          "height": 170
        },
        "outputId": "fb9875e4-9298-4147-9df7-1965fda5fd19"
      },
      "source": [
        "dataset.info()"
      ],
      "execution_count": null,
      "outputs": [
        {
          "output_type": "stream",
          "text": [
            "<class 'pandas.core.frame.DataFrame'>\n",
            "Int64Index: 99998 entries, 0 to 99999\n",
            "Data columns (total 2 columns):\n",
            " #   Column   Non-Null Count  Dtype \n",
            "---  ------   --------------  ----- \n",
            " 0   Summary  99998 non-null  object\n",
            " 1   Text     99998 non-null  object\n",
            "dtypes: object(2)\n",
            "memory usage: 2.3+ MB\n"
          ],
          "name": "stdout"
        }
      ]
    },
    {
      "cell_type": "code",
      "metadata": {
        "id": "QttefTs8wvx9",
        "colab_type": "code",
        "colab": {
          "base_uri": "https://localhost:8080/",
          "height": 68
        },
        "outputId": "d2de109c-fab8-4dc0-955c-c4b762fb301e"
      },
      "source": [
        "dataset.isnull().sum()"
      ],
      "execution_count": null,
      "outputs": [
        {
          "output_type": "execute_result",
          "data": {
            "text/plain": [
              "Summary    0\n",
              "Text       0\n",
              "dtype: int64"
            ]
          },
          "metadata": {
            "tags": []
          },
          "execution_count": 12
        }
      ]
    },
    {
      "cell_type": "markdown",
      "metadata": {
        "id": "oEt5DidcyldL",
        "colab_type": "text"
      },
      "source": [
        "# **4- Dataset Preprocessing and Cleaning**"
      ]
    },
    {
      "cell_type": "markdown",
      "metadata": {
        "id": "oxM1eYQvzAJi",
        "colab_type": "text"
      },
      "source": [
        "\n",
        "\n",
        "1.   Identifying contractions as a dictionary"
      ]
    },
    {
      "cell_type": "code",
      "metadata": {
        "id": "MIZvLYNczqxg",
        "colab_type": "code",
        "colab": {}
      },
      "source": [
        "contractions = { \n",
        "\"ain't\": \"am not\", \"aren't\": \"are not\", \"can't\": \"cannot\", \"can't've\": \"cannot have\", \"'cause\": \"because\",\n",
        "\"could've\": \"could have\", \"couldn't\": \"could not\", \"couldn't've\": \"could not have\", \"didn't\": \"did not\",\n",
        "\"doesn't\": \"does not\", \"don't\": \"do not\", \"hadn't\": \"had not\", \"hadn't've\": \"had not have\", \"hasn't\": \"has not\",\n",
        "\"haven't\": \"have not\", \"he'd\": \"he had\", \"he'd've\": \"he would have\", \"he'll\": \"he will\", \"he'll've\": \"he will have\",\n",
        "\"he's\": \"he is\", \"how'd\": \"how did\", \"how'd'y\": \"how do you\", \"how'll\": \"how will\", \"how's\": \"how does\",\n",
        "\"I'd\": \"I would\", \"I'd've\": \"I would have\", \"I'll\": \"I will\", \"I'll've\": \"I will have\", \"I'm\": \"I am\",\n",
        "\"I've\": \"I have\", \"isn't\": \"is not\", \"it'd\": \"it would\", \"it'd've\": \"it would have\", \"it'll\": \"it will\",\n",
        "\"it'll've\": \"it will have\", \"it's\": \"it is\", \"let's\": \"let us\", \"ma'am\": \"madam\", \"mayn't\": \"may not\",\n",
        "\"might've\": \"might have\", \"mightn't\": \"might not\", \"mightn't've\": \"might not have\", \"must've\": \"must have\",\n",
        "\"mustn't\": \"must not\", \"mustn't've\": \"must not have\", \"needn't\": \"need not\", \"needn't've\": \"need not have\",\n",
        "\"o'clock\": \"of the clock\", \"oughtn't\": \"ought not\", \"oughtn't've\": \"ought not have\", \"shan't\": \"shall not\",\n",
        "\"sha'n't\": \"shall not\", \"shan't've\": \"shall not have\", \"she'd\": \"she would\", \"she'd've\": \"she would have\",\n",
        "\"she'll\": \"she will\", \"she'll've\": \"she will have\", \"she's\": \"she is\", \"should've\": \"should have\",\n",
        "\"shouldn't\": \"should not\", \"shouldn't've\": \"should not have\", \"so've\": \"so have\", \"so's\": \"so is\",\n",
        "\"that'd\": \"that had\", \"that'd've\": \"that would have\", \"that's\": \"that is\", \"there'd\": \"there would\",\n",
        "\"there'd've\": \"there would have\", \"there's\": \"there is\", \"they'd\": \"they would\", \"they'd've\": \"they would have\",\n",
        "\"they'll\": \"they will\", \"they'll've\": \"they will have\", \"they're\": \"they are\", \"they've\": \"they have\",\n",
        "\"to've\": \"to have\", \"wasn't\": \"was not\", \"we'd\": \"we would\", \"we'd've\": \"we would have\", \"we'll\": \"we will\",\n",
        "\"we'll've\": \"we will have\", \"we're\": \"we are\", \"we've\": \"we have\", \"weren't\": \"were not\", \"what'll\": \"what will\",\n",
        "\"what'll've\": \"what will have\", \"what're\": \"what are\", \"what's\": \"what is\", \"what've\": \"what have\",\n",
        "\"when's\": \"when is\", \"when've\": \"when have\", \"where'd\": \"where did\", \"where's\": \"where is\",\n",
        "\"where've\": \"where have\", \"who'll\": \"who will\", \"who'll've\": \"who will have\", \"who's\": \"who is\",\n",
        "\"who've\": \"who have\", \"why's\": \"why is\", \"why've\": \"why have\", \"will've\": \"will have\", \"won't\": \"will not\",\n",
        "\"won't've\": \"will not have\", \"would've\": \"would have\", \"wouldn't\": \"would not\", \"wouldn't've\": \"would not have\",\n",
        "\"y'all\": \"you all\", \"y'all'd\": \"you all would\", \"y'all'd've\": \"you all would have\",\n",
        "\"y'all're\": \"you all are\", \"y'all've\": \"you all have\", \"you'd\": \"you would\", \"you'd've\": \"you would have\",\n",
        "\"you'll\": \"you will\", \"you'll've\": \"you will have\", \"you're\": \"you are\", \"you've\": \"you have\"\n",
        "}"
      ],
      "execution_count": null,
      "outputs": []
    },
    {
      "cell_type": "code",
      "metadata": {
        "id": "GrjGBcdsBg0L",
        "colab_type": "code",
        "colab": {}
      },
      "source": [
        ""
      ],
      "execution_count": null,
      "outputs": []
    },
    {
      "cell_type": "markdown",
      "metadata": {
        "id": "D5pzaB5RBEUA",
        "colab_type": "text"
      },
      "source": [
        "2-   Converting all words in text and summary into lower case\n\n",
        "3-   Mapping contractions\n\n",
        "4-   Removing stopwords (except negation and comparing words; I think these words are important and affect the meaning of the whole sentence; so I kept them there)\n\n",
        "5-   Removing all special characters\n\n",
        "6-   Adding \"START\" and \"EOS\" tokens\n"
      ]
    },
    {
      "cell_type": "code",
      "metadata": {
        "id": "xZtxM6g96EdU",
        "colab_type": "code",
        "colab": {}
      },
      "source": [
        "\n",
        "#Defining and customizing the stopwords \n",
        "all_stop_words=set(stopwords.words('english'))\n",
        "wanted_words=['so','not','no','nor','but','only','until','against','off','out','each','all','any','few','more','most',\n",
        "                'some','other','same','too','very','just', 'as','than']\n",
        "stop_words=[sw for sw in all_stop_words if not sw in wanted_words]\n",
        "\n",
        "#Defining the function of cleaning\n",
        "def cleaning_data(textdata):\n",
        "  #2\n",
        "   textdatanew = textdata.lower()\n",
        "  #3\n",
        "   textdatanew=[contractions[token] if token in contractions else token for token in textdatanew.split()]\n",
        "   textdatanew=\" \".join(textdatanew)\n",
        "  #Now, all negation expressions use the word \"not\"\n",
        "  #4\n",
        "   textdatanew=[s for s in textdatanew.split() if not s in stop_words]\n",
        "   textdatanew=\" \".join(textdatanew)\n",
        "  #5\n",
        "   textdatanew = re.sub(r'[^a-zA-Z]',' ', textdatanew)\n",
        "  \n",
        "   return textdatanew\n",
        "\n",
        "#modifying our dataset with new cleaned data\n",
        "new_text = []\n",
        "new_summary=[]\n",
        "for text in dataset.Text:\n",
        "    new_text.append(cleaning_data(text))\n",
        "    \n",
        "for summary in dataset.Summary:\n",
        "    new_summary.append(cleaning_data(summary))\n",
        "\n",
        "dataset['New_Text']=new_text\n",
        "dataset['New_Summary']=new_summary\n",
        "#6\n",
        "#dataset['New_Text'] = dataset['New_Text'].apply(lambda x : '<START> '+ x + ' <END>')\n",
        "dataset['New_Summary'] = dataset['New_Summary'].apply(lambda x : '<START>'+ x + '<EOS>')\n"
      ],
      "execution_count": null,
      "outputs": []
    },
    {
      "cell_type": "markdown",
      "metadata": {
        "id": "3fdTEdOriBhS",
        "colab_type": "text"
      },
      "source": [
        "Previewing the cleaned texts and summaries"
      ]
    },
    {
      "cell_type": "code",
      "metadata": {
        "id": "y4Eic-9ajI5r",
        "colab_type": "code",
        "colab": {
          "base_uri": "https://localhost:8080/",
          "height": 632
        },
        "outputId": "a33f6d93-b17f-475d-b9f7-94734139c72f"
      },
      "source": [
        "#dataset.head()\n",
        "for i in range(7):\n",
        "  print(\"Text \",i+1,\": \")\n",
        "  print(dataset['New_Text'][i])\n",
        "  print(\"Summary: \")\n",
        "  print(dataset['New_Summary'][i])\n",
        "  print('-------------------------------------')\n"
      ],
      "execution_count": null,
      "outputs": [
        {
          "output_type": "stream",
          "text": [
            "Text  1 : \n",
            "bought several vitality canned dog food products found all good quality  product looks more like stew than processed meat smells better  labrador finicky appreciates product better than most \n",
            "Summary: \n",
            "<START>good quality dog food<EOS>\n",
            "-------------------------------------\n",
            "Text  2 : \n",
            "product arrived labeled as jumbo salted peanuts   the peanuts actually small sized unsalted  not sure error vendor intended represent product as  jumbo  \n",
            "Summary: \n",
            "<START>not as advertised<EOS>\n",
            "-------------------------------------\n",
            "Text  3 : \n",
            "confection around few centuries  light  pillowy citrus gelatin nuts   case filberts  cut tiny squares liberally coated powdered sugar  tiny mouthful heaven  not too chewy  very flavorful  highly recommend yummy treat  familiar story c s  lewis   the lion  witch  wardrobe    treat seduces edmund selling out brother sisters witch \n",
            "Summary: \n",
            "<START> delight  says all<EOS>\n",
            "-------------------------------------\n",
            "Text  4 : \n",
            "looking secret ingredient robitussin believe found it  got addition root beer extract ordered  which good  made some cherry soda  flavor very medicinal \n",
            "Summary: \n",
            "<START>cough medicine<EOS>\n",
            "-------------------------------------\n",
            "Text  5 : \n",
            "great taffy great price  wide assortment yummy taffy  delivery very quick  taffy lover  deal \n",
            "Summary: \n",
            "<START>great taffy<EOS>\n",
            "-------------------------------------\n",
            "Text  6 : \n",
            "got wild hair taffy ordered five pound bag  taffy all very enjoyable many flavors  watermelon  root beer  melon  peppermint  grape  etc  only complaint bit too much red black licorice flavored pieces  just not particular favorites   me  kids  husband  lasted only two weeks  would recommend brand taffy    delightful treat \n",
            "Summary: \n",
            "<START>nice taffy<EOS>\n",
            "-------------------------------------\n",
            "Text  7 : \n",
            "saltwater taffy great flavors very soft chewy  each candy individually wrapped well  none candies stuck together  happen expensive version  fralinger s  would highly recommend candy  served beach themed party everyone loved it \n",
            "Summary: \n",
            "<START>great  just as good as expensive brands <EOS>\n",
            "-------------------------------------\n"
          ],
          "name": "stdout"
        }
      ]
    },
    {
      "cell_type": "markdown",
      "metadata": {
        "id": "hDI-NImihdUA",
        "colab_type": "text"
      },
      "source": [
        "# **5- Splitting the dataset into Training and Testing**"
      ]
    },
    {
      "cell_type": "code",
      "metadata": {
        "id": "ep05bq8whXkW",
        "colab_type": "code",
        "colab": {
          "base_uri": "https://localhost:8080/",
          "height": 34
        },
        "outputId": "28f99a41-7624-4434-92b6-609fd509f964"
      },
      "source": [
        "print(dataset.shape)\n",
        "x_train, x_test, y_train, y_test= model_selection.train_test_split(dataset['New_Text'], dataset['New_Summary'], test_size=0.20,random_state=30, shuffle=False)"
      ],
      "execution_count": null,
      "outputs": [
        {
          "output_type": "stream",
          "text": [
            "(99998, 4)\n"
          ],
          "name": "stdout"
        }
      ]
    },
    {
      "cell_type": "code",
      "metadata": {
        "id": "9v_LQz-oGH2c",
        "colab_type": "code",
        "colab": {}
      },
      "source": [
        ""
      ],
      "execution_count": null,
      "outputs": []
    },
    {
      "cell_type": "code",
      "metadata": {
        "id": "Pv_0MW3ZCz_f",
        "colab_type": "code",
        "colab": {
          "base_uri": "https://localhost:8080/",
          "height": 85
        },
        "outputId": "3650bc1b-f32d-452c-d58b-8b8e65b30d1e"
      },
      "source": [
        "print('x_train: ',x_train.shape)\n",
        "print('y_train: ', y_train.shape)\n",
        "print('x_test: ', x_test.shape)\n",
        "print('y_test: ', y_test.shape)"
      ],
      "execution_count": null,
      "outputs": [
        {
          "output_type": "stream",
          "text": [
            "x_train:  (79998,)\n",
            "y_train:  (79998,)\n",
            "x_test:  (20000,)\n",
            "y_test:  (20000,)\n"
          ],
          "name": "stdout"
        }
      ]
    },
    {
      "cell_type": "markdown",
      "metadata": {
        "id": "nxtISvYeh6_N",
        "colab_type": "text"
      },
      "source": [
        "\n",
        "# **6- Determining the maximum lengths of texts and summaries**"
      ]
    },
    {
      "cell_type": "code",
      "metadata": {
        "id": "L03cMUAfQ00a",
        "colab_type": "code",
        "colab": {
          "base_uri": "https://localhost:8080/",
          "height": 51
        },
        "outputId": "85c11c15-e2db-4d8e-ee06-2cbb38204542"
      },
      "source": [
        "\n",
        "\n",
        "# def data_lengths(textdata):\n",
        "#   data_length=[]\n",
        "#   for example in textdata:\n",
        "#     data_length.append(len(example.split()))\n",
        "\n",
        "text_lengths=[]\n",
        "summary_lengths=[]\n",
        "\n",
        "for text in dataset['New_Text']:\n",
        "  text_lengths.append(len(text.split()))\n",
        "for summary in dataset.New_Summary:\n",
        "  summary_lengths.append(len(summary.split()))\n",
        "#text_lengths=data_lengths(dataset['Text'])\n",
        "#summary_lengths=data_lengths(dataset['Summary'])\n",
        "\n",
        "print(text_lengths[:10])\n",
        "print(summary_lengths[:10])\n"
      ],
      "execution_count": null,
      "outputs": [
        {
          "output_type": "stream",
          "text": [
            "[28, 22, 47, 22, 14, 48, 32, 15, 17, 16]\n",
            "[4, 3, 4, 2, 2, 2, 8, 3, 2, 3]\n"
          ],
          "name": "stdout"
        }
      ]
    },
    {
      "cell_type": "markdown",
      "metadata": {
        "id": "HfCeM7bD7tsg",
        "colab_type": "text"
      },
      "source": [
        "Looking for the most suitable **length**"
      ]
    },
    {
      "cell_type": "code",
      "metadata": {
        "id": "3SCzSfCf7szH",
        "colab_type": "code",
        "colab": {
          "base_uri": "https://localhost:8080/",
          "height": 442
        },
        "outputId": "f0b81af7-4ffb-49bd-ccb4-f624f5c471e0"
      },
      "source": [
        "print('Text Lengths:')\n",
        "print(pd.DataFrame(text_lengths).describe())\n",
        "\n",
        "print(\"85% of text lengths is: \",np.percentile(text_lengths,85))\n",
        "print(\"90% of text lengths is: \",np.percentile(text_lengths,90))\n",
        "\n",
        "print('_____________________________')\n",
        "\n",
        "print('Summary Lengths:')\n",
        "print(pd.DataFrame(summary_lengths).describe())\n",
        "\n",
        "print(\"85% of summary lengths is: \",np.percentile(summary_lengths,85))\n",
        "print(\"90% of summary lengths is: \",np.percentile(summary_lengths,90))"
      ],
      "execution_count": null,
      "outputs": [
        {
          "output_type": "stream",
          "text": [
            "Text Lengths:\n",
            "                  0\n",
            "count  99998.000000\n",
            "mean      50.019490\n",
            "std       51.039005\n",
            "min        4.000000\n",
            "25%       21.000000\n",
            "50%       34.000000\n",
            "75%       60.000000\n",
            "max     1898.000000\n",
            "85% of text lengths is:  82.0\n",
            "90% of text lengths is:  101.0\n",
            "_____________________________\n",
            "Summary Lengths:\n",
            "                  0\n",
            "count  99998.000000\n",
            "mean       3.635013\n",
            "std        1.932578\n",
            "min        1.000000\n",
            "25%        2.000000\n",
            "50%        3.000000\n",
            "75%        5.000000\n",
            "max       22.000000\n",
            "85% of summary lengths is:  5.0\n",
            "90% of summary lengths is:  6.0\n"
          ],
          "name": "stdout"
        }
      ]
    },
    {
      "cell_type": "markdown",
      "metadata": {
        "id": "5KJBNMM_AzOs",
        "colab_type": "text"
      },
      "source": [
        "Specifying the maximum lengths for both Texts and Summaries"
      ]
    },
    {
      "cell_type": "code",
      "metadata": {
        "id": "9m9tToxEAyUx",
        "colab_type": "code",
        "colab": {}
      },
      "source": [
        "max_text_length=95\n",
        "max_summary_length=8"
      ],
      "execution_count": null,
      "outputs": []
    },
    {
      "cell_type": "markdown",
      "metadata": {
        "id": "q8I3MQcrGyb8",
        "colab_type": "text"
      },
      "source": [
        "# *7- Preparing our data for deep learning (Tokenizer/Vocabulary)*\n",
        "\n",
        "1- Building the vocabulary / Constructing the Tokenizer\n",
        "\n",
        "2- Assigning an integer \"index\" for each word, based on its frequencey on the \"fitting\" text; the first words are the most appeared\n",
        "\n",
        "3- Converting/Encoding each text/summary into its corresponding integer list/sequence based on the vocabulary built in steps 1 and 2\n",
        "\n",
        "4- padding each sequuence to the same length  "
      ]
    },
    {
      "cell_type": "code",
      "metadata": {
        "id": "JL24GWGBGm2S",
        "colab_type": "code",
        "colab": {}
      },
      "source": [
        "#1\n",
        "text_tokenizer= Tokenizer()\n",
        "#2\n",
        "#fit the tokenizer on our text training data \"Filling the vocabulary\"\n",
        "text_tokenizer.fit_on_texts(x_train)\n",
        "\n",
        "#some information about our vocabulary:\n",
        "#print(text_tokenizer.word_index)\n",
        "#print(text_tokenizer.word_counts)\n",
        "text_vocab_size=len(text_tokenizer.word_counts)+1\n",
        "print('Text Vocabulary Size= ',text_vocab_size)\n",
        "\n",
        "#print(text_tokenizer.document_count)\n",
        "#print(text_tokenizer.word_docs)\n",
        "\n",
        "#3\n",
        "x_train=text_tokenizer.texts_to_sequences(x_train)\n",
        "x_test=text_tokenizer.texts_to_sequences(x_test)\n",
        "\n",
        "#4\n",
        "x_train= pad_sequences(x_train, maxlen= max_text_length, padding='post', truncating='post', value=0)\n",
        "x_test= pad_sequences(x_test, maxlen= max_text_length, padding='post', truncating='post', value=0)\n"
      ],
      "execution_count": null,
      "outputs": []
    },
    {
      "cell_type": "markdown",
      "metadata": {
        "id": "yG9vmsDLd0qI",
        "colab_type": "text"
      },
      "source": [
        "The same goes to the summary side"
      ]
    },
    {
      "cell_type": "code",
      "metadata": {
        "id": "nSvd5HyLOcxE",
        "colab_type": "code",
        "colab": {}
      },
      "source": [
        "#1\n",
        "summary_tokenizer= Tokenizer()\n",
        "#2\n",
        "#fit the tokenizer on our text training data \"Filling the vocabulary\"\n",
        "summary_tokenizer.fit_on_texts(y_train)\n",
        "\n",
        "#some information about our vocabulary:\n",
        "#print(summary_tokenizer.word_index)\n",
        "#print(summary_tokenizer.word_counts)\n",
        "summary_vocab_size=len(summary_tokenizer.word_counts)+1\n",
        "print('Summary Vocabulary Size= ',summary_vocab_size)\n",
        "\n",
        "#print(summary_tokenizer.document_count)\n",
        "#print(summary_tokenizer.word_docs)\n",
        "\n",
        "#3\n",
        "y_train=summary_tokenizer.texts_to_sequences(y_train)\n",
        "y_test=summary_tokenizer.texts_to_sequences(y_test)\n",
        "\n",
        "#4\n",
        "y_train= pad_sequences(y_train, maxlen= max_summary_length, padding='post', truncating='post', value=0)\n",
        "y_test= pad_sequences(y_test, maxlen= max_summary_length, padding='post', truncating='post', value=0)\n"
      ],
      "execution_count": null,
      "outputs": []
    },
    {
      "cell_type": "markdown",
      "metadata": {
        "id": "tZcsSupVgq_V",
        "colab_type": "text"
      },
      "source": [
        "# **8- Building the model**"
      ]
    },
    {
      "cell_type": "markdown",
      "metadata": {
        "id": "SlQHv0Yy6EQb",
        "colab_type": "text"
      },
      "source": [
        "Our model will be **encoder-decoder RNN**:\n",
        "\n",
        "**A) Setting up the Model:\n",
        "\n",
        "1- Defining the encoder\n",
        "\n",
        "2- Defining the decoder\n",
        "\n",
        "3- Using Attention Layer\n",
        "\n",
        "4- Defining the Dense Layer\n",
        "\n",
        "5- Defining the Model\n",
        "\n",
        "------------------------\n",
        "\n",
        "B) Training the Model:\n",
        "\n",
        "1- Compiling the model\n",
        "\n",
        "2- Defining the early stopping object\n",
        "\n",
        "3- Training/Fitting the model\n",
        "\n",
        "4- comparing training/validation progress\n",
        "\n",
        "-----------------------\n",
        "\n",
        "\n",
        "\n",
        "\n",
        "\n",
        "\n"
      ]
    },
    {
      "cell_type": "markdown",
      "metadata": {
        "id": "nuRsw8fVlZWG",
        "colab_type": "text"
      },
      "source": [
        "\n",
        "# ****A) Setting up the Model:****"
      ]
    },
    {
      "cell_type": "code",
      "metadata": {
        "id": "yCOarLhUfYnS",
        "colab_type": "code",
        "colab": {
          "base_uri": "https://localhost:8080/",
          "height": 578
        },
        "outputId": "cf56bef4-ffa5-4398-f29b-bef37d7f27c6"
      },
      "source": [
        "backend.clear_session() \n",
        "features_units_num= 512\n",
        "\n",
        "#1\n",
        "enc_input= Input(shape=(max_text_length,))\n",
        "enc_embedding= Embedding(text_vocab_size, features_units_num, trainable= True)(enc_input)\n",
        "#Encoder Stacked GRU\n",
        "enc_gru1= GRU(features_units_num, return_state=True, return_sequences= True)\n",
        "enc_output1, h1= enc_gru1(enc_embedding)\n",
        "\n",
        "enc_gru2= GRU(features_units_num, return_sequences= True, return_state=True)\n",
        "enc_output2, h2= enc_gru2(enc_output1)\n",
        "\n",
        "enc_gru3= GRU(features_units_num, return_sequences= True, return_state=True)\n",
        "enc_output3, h3= enc_gru3(enc_output2)\n",
        "\n",
        "#2 \n",
        "dec_input= Input(shape=(None,))\n",
        "dec_embedding_layer= Embedding(summary_vocab_size, features_units_num, trainable= True)\n",
        "dec_emb=dec_embedding_layer(dec_input)\n",
        "\n",
        "#Decoder GRU\n",
        "dec_gru= GRU(features_units_num, return_sequences= True, return_state= True)\n",
        "dec_output, dec_h= dec_gru(dec_emb, initial_state=[h3])\n",
        "\n",
        "#3\n",
        "#Keras has a built-in Attention class. Unfortunately, it is more suitable for CNNs than RNNs.\n",
        "#Therefore, we will use a third-paty attention layer file.\n",
        "attn_layer = AttentionLayer(name='attention_layer')\n",
        "attn_output, attn_states = attn_layer([enc_output3, dec_output])\n",
        "input_layer = Concatenate(axis=-1, name='concat_layer')([dec_output, attn_output])\n",
        "\n",
        "#4\n",
        "#Dense layer\n",
        "decoder_dense = TimeDistributed(Dense(summary_vocab_size, activation='softmax')) \n",
        "dec_output = decoder_dense(input_layer)\n",
        "\n",
        "#5\n",
        "# Define the model\n",
        "model = Model([enc_input, dec_input], dec_output) \n",
        "model.summary()"
      ],
      "execution_count": null,
      "outputs": [
        {
          "output_type": "stream",
          "text": [
            "Model: \"model\"\n",
            "__________________________________________________________________________________________________\n",
            "Layer (type)                    Output Shape         Param #     Connected to                     \n",
            "==================================================================================================\n",
            "input_1 (InputLayer)            [(None, 95)]         0                                            \n",
            "__________________________________________________________________________________________________\n",
            "embedding (Embedding)           (None, 95, 512)      24528896    input_1[0][0]                    \n",
            "__________________________________________________________________________________________________\n",
            "gru (GRU)                       [(None, 95, 512), (N 1575936     embedding[0][0]                  \n",
            "__________________________________________________________________________________________________\n",
            "input_2 (InputLayer)            [(None, None)]       0                                            \n",
            "__________________________________________________________________________________________________\n",
            "gru_1 (GRU)                     [(None, 95, 512), (N 1575936     gru[0][0]                        \n",
            "__________________________________________________________________________________________________\n",
            "embedding_1 (Embedding)         (None, None, 512)    6813184     input_2[0][0]                    \n",
            "__________________________________________________________________________________________________\n",
            "gru_2 (GRU)                     [(None, 95, 512), (N 1575936     gru_1[0][0]                      \n",
            "__________________________________________________________________________________________________\n",
            "gru_3 (GRU)                     [(None, None, 512),  1575936     embedding_1[0][0]                \n",
            "                                                                 gru_2[0][1]                      \n",
            "__________________________________________________________________________________________________\n",
            "attention_layer (AttentionLayer ((None, None, 512),  524800      gru_2[0][0]                      \n",
            "                                                                 gru_3[0][0]                      \n",
            "__________________________________________________________________________________________________\n",
            "concat_layer (Concatenate)      (None, None, 1024)   0           gru_3[0][0]                      \n",
            "                                                                 attention_layer[0][0]            \n",
            "__________________________________________________________________________________________________\n",
            "time_distributed (TimeDistribut (None, None, 13307)  13639675    concat_layer[0][0]               \n",
            "==================================================================================================\n",
            "Total params: 51,810,299\n",
            "Trainable params: 51,810,299\n",
            "Non-trainable params: 0\n",
            "__________________________________________________________________________________________________\n"
          ],
          "name": "stdout"
        }
      ]
    },
    {
      "cell_type": "code",
      "metadata": {
        "id": "WH133rlQgIjm",
        "colab_type": "code",
        "colab": {}
      },
      "source": [
        "# #3\n",
        "# attention_output1= tensorflow.keras.layers.Attention()([enc_output3,dec_output])\n",
        "# # #dec_output1 = tensorflow.keras.layers.GlobalAveragePooling1D()(dec_output)\n",
        "# # #attention_output = tensorflow.keras.layers.GlobalAveragePooling1D()(attention_output1)\n",
        "# #input_layer = tensorflow.keras.layers.Concatenate()([dec_output1, attention_output])\n",
        "# input_layer = tensorflow.keras.layers.Concatenate()([dec_output, attention_output1])\n",
        "\n",
        "# # input_layer.shape\n"
      ],
      "execution_count": null,
      "outputs": []
    },
    {
      "cell_type": "markdown",
      "metadata": {
        "id": "14eRIj_rmJf3",
        "colab_type": "text"
      },
      "source": [
        "# **B) Training the Model:**"
      ]
    },
    {
      "cell_type": "code",
      "metadata": {
        "id": "KmHiJ5yLNV81",
        "colab_type": "code",
        "colab": {}
      },
      "source": [
        "#1\n",
        "model.compile(optimizer='rmsprop', loss='sparse_categorical_crossentropy')\n",
        "#opt = keras.optimizers.Adam(learning_rate=0.01)\n",
        "#model.compile(loss='categorical_crossentropy', optimizer=opt)"
      ],
      "execution_count": null,
      "outputs": []
    },
    {
      "cell_type": "code",
      "metadata": {
        "id": "pqVtD8sAOAgz",
        "colab_type": "code",
        "colab": {}
      },
      "source": [
        "#2\n",
        "early_stop= EarlyStopping(monitor='val_loss', mode='min', verbose=1)\n"
      ],
      "execution_count": null,
      "outputs": []
    },
    {
      "cell_type": "code",
      "metadata": {
        "id": "6Oz3D9qBOXwb",
        "colab_type": "code",
        "colab": {
          "base_uri": "https://localhost:8080/",
          "height": 238
        },
        "outputId": "4b1c34a8-8398-45ea-f4ce-5481c9e71b6a"
      },
      "source": [
        "#3\n",
        "history=model.fit([x_train,y_train[:,:-1]], y_train.reshape(y_train.shape[0],y_train.shape[1], 1)[:,1:] ,epochs=15,callbacks=[early_stop],batch_size=128, validation_data=([x_test,y_test[:,:-1]], y_test.reshape(y_test.shape[0],y_test.shape[1], 1)[:,1:]))"
      ],
      "execution_count": null,
      "outputs": [
        {
          "output_type": "stream",
          "text": [
            "Epoch 1/15\n",
            "625/625 [==============================] - 362s 580ms/step - loss: 3.2025 - val_loss: 2.8319\n",
            "Epoch 2/15\n",
            "625/625 [==============================] - 361s 577ms/step - loss: 2.7771 - val_loss: 2.6766\n",
            "Epoch 3/15\n",
            "625/625 [==============================] - 358s 572ms/step - loss: 2.5674 - val_loss: 2.6041\n",
            "Epoch 4/15\n",
            "625/625 [==============================] - 356s 570ms/step - loss: 2.3803 - val_loss: 2.5738\n",
            "Epoch 5/15\n",
            "625/625 [==============================] - 358s 572ms/step - loss: 2.1956 - val_loss: 2.5680\n",
            "Epoch 6/15\n",
            "625/625 [==============================] - 360s 577ms/step - loss: 2.0090 - val_loss: 2.5793\n",
            "Epoch 00006: early stopping\n"
          ],
          "name": "stdout"
        }
      ]
    },
    {
      "cell_type": "markdown",
      "metadata": {
        "id": "E88BW-WVa7k9",
        "colab_type": "text"
      },
      "source": [
        "It is common to create dual learning curves for a machine learning model during training on both the training and validation datasets.\n",
        "\n",
        "Train Learning Curve: Learning curve calculated from the training dataset that gives an idea of how well the model is learning.\n",
        "\n",
        "Validation Learning Curve: Learning curve calculated from a hold-out validation dataset that gives an idea of how well the model is generalizing.\n",
        "\n",
        "In some cases, it is also common to create learning curves for multiple metrics, such as in the case of classification predictive modeling problems, where the model may be optimized according to cross-entropy loss and model performance is evaluated using classification accuracy. In this case, two plots are created, one for the learning curves of each metric, and each plot can show two learning curves, one for each of the train and validation datasets.\n",
        "\n",
        "Optimization Learning Curves: Learning curves calculated on the metric by which the parameters of the model are being optimized, e.g. loss.\n",
        "\n",
        "Performance Learning Curves: Learning curves calculated on the metric by which the model will be evaluated and selected, e.g. accuracy.\n",
        "\n"
      ]
    },
    {
      "cell_type": "code",
      "metadata": {
        "id": "kb3w0nCTNT5U",
        "colab_type": "code",
        "colab": {
          "base_uri": "https://localhost:8080/",
          "height": 265
        },
        "outputId": "5242b5ff-3bf8-46cf-8508-51bc07815c37"
      },
      "source": [
        "#4\n",
        "from matplotlib import pyplot \n",
        "pyplot.plot(history.history['loss'], label='train') \n",
        "pyplot.plot(history.history['val_loss'], label='test') \n",
        "pyplot.legend() \n",
        "pyplot.show()"
      ],
      "execution_count": null,
      "outputs": [
        {
          "output_type": "display_data",
          "data": {
            "image/png": "[encoded data removed]",
            "text/plain": [
              "<Figure size 432x288 with 1 Axes>"
            ]
          },
          "metadata": {
            "tags": [],
            "needs_background": "light"
          }
        }
      ]
    },
    {
      "cell_type": "markdown",
      "metadata": {
        "id": "O5Yxi4znmYeR",
        "colab_type": "text"
      },
      "source": [
        "# **9) Inference Model (Predicting):**"
      ]
    },
    {
      "cell_type": "markdown",
      "metadata": {
        "id": "6UVfdQ0kMVHk",
        "colab_type": "text"
      },
      "source": [
        "Now, it is time for predicting new sentences by the Inference model.\n",
        "First, we will build two standalone models, one for the encoder and the other for the decoder.\n",
        "\n",
        "- The Encoder Model is simple, it can be defined as taking the input layer from the trained model's encoder **enc_input**, and outputting the hidden and cell state tensors **enc_states**\n",
        "\n",
        "- The Decoder Model is more sophisticated, it takes the hidden and cell states from the new encoder model, **dec_input_state_h** as \"initial state\". But this state should be defined as an input first so it can be assigned to the decoder GRU layer."
      ]
    },
    {
      "cell_type": "code",
      "metadata": {
        "id": "xsN3XugKqgEk",
        "colab_type": "code",
        "colab": {}
      },
      "source": [
        "#Inference Encoder Model:\n",
        "encoder_inf_model=Model(enc_input, [enc_output3, h3])\n",
        "\n",
        "#Inference Decoder Model:\n",
        "dec_input_state_h= Input( shape=(features_units_num, ))\n",
        "dec_states_inputs=[dec_input_state_h]\n",
        "\n",
        "dec_hidden_state_input = Input(shape=(max_text_length, features_units_num ))\n",
        "dec_states_inputs_all=[dec_hidden_state_input, dec_input_state_h]\n",
        "\n",
        "dec_inf_embedding= dec_embedding_layer(dec_input)\n",
        "#dec_inf_embedding= Embedding(summary_vocab_size, features_units_num, trainable= True)(dec_input)\n",
        "\n",
        "dec_inf_output, state_h2 = dec_gru(dec_inf_embedding, initial_state=dec_states_inputs)\n",
        "\n",
        "#attention inference\n",
        "attn_inf_output, attn_inf_states = attn_layer([dec_hidden_state_input, dec_inf_output])\n",
        "inf_input_layer = Concatenate(axis=-1, name='concat')([dec_inf_output, attn_inf_output])\n",
        "\n",
        "dec_inf_output = decoder_dense(inf_input_layer)\n",
        "\n",
        "decoder_inf_model = Model( [dec_input] + dec_states_inputs_all, [dec_inf_output] + [state_h2])\n",
        "\n",
        "\n",
        "\n"
      ],
      "execution_count": null,
      "outputs": []
    },
    {
      "cell_type": "code",
      "metadata": {
        "id": "Zx1rZ2kR15MR",
        "colab_type": "code",
        "colab": {}
      },
      "source": [
        "def decode_sequence(input_seq):\n",
        "    # Encode the input as state vectors.\n",
        "    pred_output, pred_h = encoder_inf_model.predict(input_seq)\n",
        "\n",
        "    # Generate empty target sequence of length 1.\n",
        "    target_seq = np.zeros((1,1)) #[[0]]\n",
        "\n",
        "    # Chose the 'start' word as the first word of the target sequence\n",
        "    target_seq[0, 0] = summary_tokenizer.word_index['start']\n",
        "\n",
        "    stop_condition = False\n",
        "    decoded_sentence = ''\n",
        "    while not stop_condition:\n",
        "        output_tokens, h = decoder_inf_model.predict([target_seq] + [pred_output, pred_h])\n",
        "\n",
        "        # Sample a token\n",
        "        sampled_token_index = np.argmax(output_tokens[0, -1, :])\n",
        "        if(sampled_token_index not in summary_tokenizer.index_word):\n",
        "          sampled_token='eos' #To avoid padding tokens\n",
        "        else:\n",
        "           sampled_token = summary_tokenizer.index_word[sampled_token_index]\n",
        "\n",
        "        if(sampled_token!='eos'):\n",
        "            decoded_sentence += ' '+sampled_token\n",
        "\n",
        "            # Exit condition: either hit max length or find stop word.\n",
        "        if(sampled_token == 'eos' or len(decoded_sentence.split()) >= (max_summary_length-1)):\n",
        "                stop_condition = True\n",
        "\n",
        "        # Update the target sequence (of length 1).\n",
        "        target_seq = np.zeros((1,1))\n",
        "        target_seq[0, 0] = sampled_token_index\n",
        "\n",
        "        # Update internal states\n",
        "        pred_h = h\n",
        "\n",
        "    return decoded_sentence"
      ],
      "execution_count": null,
      "outputs": []
    },
    {
      "cell_type": "code",
      "metadata": {
        "id": "yx9ucHcp6HvG",
        "colab_type": "code",
        "colab": {}
      },
      "source": [
        "def seq2summary(input_seq):\n",
        "    newString=''\n",
        "    for i in input_seq:\n",
        "      if((i!=0 and i!=summary_tokenizer.word_index['start']) and i!=summary_tokenizer.word_index['eos']):\n",
        "        newString=newString+summary_tokenizer.index_word[i]+' '\n",
        "    return newString\n",
        "\n",
        "def seq2text(input_seq):\n",
        "    newString=''\n",
        "    for i in input_seq:\n",
        "      if(i!=0):\n",
        "        newString=newString+text_tokenizer.index_word[i]+' '\n",
        "    return newString"
      ],
      "execution_count": null,
      "outputs": []
    },
    {
      "cell_type": "code",
      "metadata": {
        "id": "IOjEE7hCr3Um",
        "colab_type": "code",
        "colab": {
          "base_uri": "https://localhost:8080/",
          "height": 1000
        },
        "outputId": "67a7d5bc-1325-470b-ce70-72bf5eac061c"
      },
      "source": [
        "for i in range(230, 250):\n",
        "  print(\"Review:\",seq2text(x_test[i]))\n",
        "  print(\"Original summary:\",seq2summary(y_test[i]))\n",
        "  print(\"Predicted summary:\",decode_sequence(x_test[i].reshape(1,max_text_length)))\n",
        "  print(\"\\n\")"
      ],
      "execution_count": null,
      "outputs": [
        {
          "output_type": "stream",
          "text": [
            "Review: loved taste smell everything better than used make years ago br br and best delivery second party shipper ever received many thanks br br buy applesauce not disappointed \n",
            "Original summary: great taste good \n",
            "Predicted summary:  great\n",
            "\n",
            "\n",
            "Review: some best coffee out there as good not better than seattle s best starbuck good deal price wise order subscription do br smooth rich coffee prefer breakfast blend better than colombia blend changed to \n",
            "Original summary: community coffee \n",
            "Predicted summary:  excellent coffee\n",
            "\n",
            "\n",
            "Review: colombian ground coffee lovers brand really love wont sorry all purchasing \n",
            "Original summary: real tasty wonderful favor \n",
            "Predicted summary:  love it\n",
            "\n",
            "\n",
            "Review: really love brand coffee coffee nut enjoy drinking this nice smooth great tasting not go wrong choice \n",
            "Original summary: love brand coffee \n",
            "Predicted summary:  excellent coffee\n",
            "\n",
            "\n",
            "Review: community coffee colombia classico standard quality everyday type columbia coffee comparable eight clock columbia coffee good aroma first open bag one tablespoon per cup results decent strength coffee typical drip coffeemaker not premium coffee but becomes good value discount price \n",
            "Original summary: standard quality columbia coffee \n",
            "Predicted summary:  excellent coffee\n",
            "\n",
            "\n",
            "Review: community coffee best brand coffee made louisiana driving passed community coffee processing plant smelling coffee roasted experience one never forgets drank brand all adult life none compare it drank all varieties brand dark roast favorite until i tried columbia classico blend new favorite sweeter taste than other varieties not quiet as strong as dark roast but strong enough real coffee love so glad tried it thanks amazon carring especially subscribe save plan \n",
            "Original summary: love coffee \n",
            "Predicted summary:  best coffee ever\n",
            "\n",
            "\n",
            "Review: bought since seemed like great deal but made batch awful weak taste aroma as old coffee completely disappointing love trying all coffees expected more this never buy again thought would never say but dunkin doughnuts way superior so try first seattle best great coffee as well \n",
            "Original summary: poor taste \n",
            "Predicted summary:  not bad but not best\n",
            "\n",
            "\n",
            "Review: think best ground coffee bag do much better than store brands like maxwell house folgers wegmans etc sale actually same price would definitely try brand again br br this flavor strong bold side like \n",
            "Original summary: much better than store brand \n",
            "Predicted summary:  good coffee\n",
            "\n",
            "\n",
            "Review: good price community coffee pack received quickly product packages sealed but not firm bricks like expected say flavor not compromised that probably order again \n",
            "Original summary: good price community coffee \n",
            "Predicted summary:  good price\n",
            "\n",
            "\n",
            "Review: very good coffee definitely purchase again robust flavorful without any trace bitterness love it \n",
            "Original summary: delicioso \n",
            "Predicted summary:  very good\n",
            "\n",
            "\n",
            "Review: weak dry tasteless coffee not taste even remotely like made columbian arabica beans grind also very poor quality br br how bad it stuff makes folger s seem like premium high grade stuff no earthly idea people give community colombian classico high rating perhaps just got bad batch very old stuff amazon but i ll not giving coffee second chance probably one weakest most tasteless coffee beans i ve ever bought \n",
            "Original summary: horrible stuff \n",
            "Predicted summary:  horrible taste\n",
            "\n",
            "\n",
            "Review: not know name community coffee intended convey coffee masses but kinda would rate it smells good open package use normal amount brew good flavor aroma no disappointments but nothing special hard time distinguishing other typical brands columbian coffee no worse no better \n",
            "Original summary: good coffee but not special \n",
            "Predicted summary:  not like coffee\n",
            "\n",
            "\n",
            "Review: case half cans smashed i m not saying destroyed also within expiration date however foods some cans discolored must getting old br br so technically speaking nothing wrong them but made keep wondering safe so peace mind decided not order product again \n",
            "Original summary: could better \n",
            "Predicted summary:  dented cans\n",
            "\n",
            "\n",
            "Review: six cans smashed received maybe pack better shipment not send smashed cans \n",
            "Original summary: smashed cans \n",
            "Predicted summary:  dented cans\n",
            "\n",
            "\n",
            "Review: recently purchased item tried first cup last evening bit aftertaste sent searching ingredients list not individual cup but original packaging sucralose hiding ingredients which not big deal not taste enjoy prospective buyers aware presence artificial sweetener not advertised noted any way product description amazon the manufacturer website notes natural artificial sweeteners used certainly something i ll checking making future purchases type item overall flavor except sweetener issue acceptable but not look rich creamy body beverage \n",
            "Original summary: sweetened sucralose \n",
            "Predicted summary:  not buy product\n",
            "\n",
            "\n",
            "Review: taste chocolate almost made pack keurig take back store purchased hot cocoa out excitement brought mr coffee keurig sale black friday avid hot cocoa drinker far worst tasting chocolate opinion watery awful artificial sweetener aftertaste granted first time not shake k cup as directed so gave second try shaking surprisingly not d mn thing help taste bright side long watered artificial sweetener as taste drink k cup you \n",
            "Original summary: not flavor expecting hot cocoa \n",
            "Predicted summary:  yuck\n",
            "\n",
            "\n",
            "Review: recently tried milk chocolate k cup amazon only thing drink common chocolate color of items listed as ingredients cocoa number it chemical smell chemical taste if buy junk not say not warned not deserve any stars \n",
            "Original summary: chocolate lovers beware \n",
            "Predicted summary:  no more\n",
            "\n",
            "\n",
            "Review: love stuff make oz setting cuisinart k cup machine add frothed steamed milk frother makes wonderful hot chocolate latte chocolate very good itself as well although like add least splash milk or whipped cream thicken body little \n",
            "Original summary: expensive but tastes great \n",
            "Predicted summary:  great hot chocolate\n",
            "\n",
            "\n",
            "Review: excellent hot chocolate buy again br and recommend highly very good flavor very smooth br and actually tastes like chocolate \n",
            "Original summary: real winner \n",
            "Predicted summary:  excellent\n",
            "\n",
            "\n",
            "Review: family loves hot chocolate cold winter s day not hot chocolate not know is need find another product keurig looking hot chocolate please not waste money product no quality control one keurig thinks good beyond me \n",
            "Original summary: watered chocolate strong artificial sweetner taste \n",
            "Predicted summary:  best hot chocolate ever\n",
            "\n",
            "\n"
          ],
          "name": "stdout"
        }
      ]
    }
  ]
}
